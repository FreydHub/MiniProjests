{
 "cells": [
  {
   "cell_type": "markdown",
   "id": "e55d0414",
   "metadata": {},
   "source": [
    "***Лабораторная работа №4 \"Написание LSTM модели\". Коршунов Егор Станиславович БВТ2202***"
   ]
  },
  {
   "cell_type": "markdown",
   "id": "ee2025c9",
   "metadata": {},
   "source": [
    "**Цель:**\n",
    "1. Написать LSTM модель, способную классифицировать текст на токсичный или не токсичный. \n",
    "2. В качестве токенизатора можно использовать любой токенизатор с hf либо написать свой эмбеддинг слой.\n",
    "3. Использование в качестве лосса BCE. \n",
    "4. Использование в качестве оптимизатор Adam/AdamW, lr=3e-4. \n",
    "5. Рассчитать такие метрики, как: accuracy, f1, roc-auc, pr-auc."
   ]
  },
  {
   "cell_type": "code",
   "execution_count": 9,
   "id": "e46d1a69",
   "metadata": {},
   "outputs": [],
   "source": [
    "# Импорт библиотек\n",
    "import pandas as pd\n",
    "import numpy as np\n",
    "import torch\n",
    "from torch import nn\n",
    "from torch.utils.data import Dataset, DataLoader\n",
    "from transformers import BertTokenizer, BertModel\n",
    "from torch.optim import AdamW \n",
    "from sklearn.model_selection import train_test_split\n",
    "from sklearn.metrics import accuracy_score, f1_score, roc_auc_score, average_precision_score\n",
    "from tqdm import tqdm\n",
    "import matplotlib.pyplot as plt\n",
    "import torch.nn as nn\n",
    "from tqdm.auto import tqdm\n",
    "import time\n",
    "from tqdm import tqdm"
   ]
  },
  {
   "cell_type": "code",
   "execution_count": 10,
   "id": "cdcd39ac",
   "metadata": {},
   "outputs": [
    {
     "name": "stdout",
     "output_type": "stream",
     "text": [
      "Using device: cuda\n"
     ]
    }
   ],
   "source": [
    "# Проверка доступности GPU\n",
    "device = torch.device('cuda' if torch.cuda.is_available() else 'cpu')\n",
    "print(f'Using device: {device}')"
   ]
  },
  {
   "cell_type": "markdown",
   "id": "0dc263d5",
   "metadata": {},
   "source": [
    "Загрузка и анализ данных"
   ]
  },
  {
   "cell_type": "code",
   "execution_count": 11,
   "id": "b13f83e9",
   "metadata": {},
   "outputs": [
    {
     "name": "stdout",
     "output_type": "stream",
     "text": [
      "Количество образцов: 14412\n",
      "Соотношение токсичных комментариев: 0.33\n",
      "Недостающие значения:\n",
      "comment    0\n",
      "toxic      0\n",
      "dtype: int64\n"
     ]
    },
    {
     "data": {
      "image/png": "[encoded data removed]",
      "text/plain": [
       "<Figure size 640x480 with 1 Axes>"
      ]
     },
     "metadata": {},
     "output_type": "display_data"
    }
   ],
   "source": [
    "# Загрузка данных\n",
    "df = pd.read_csv('labeled.csv', sep=',', on_bad_lines='skip')\n",
    "\n",
    "# Переименование столбцов для удобства\n",
    "df.columns = ['comment', 'toxic']\n",
    "\n",
    "# Анализ данных\n",
    "print(f\"Количество образцов: {len(df)}\")\n",
    "print(f\"Соотношение токсичных комментариев: {df['toxic'].mean():.2f}\")\n",
    "print(f\"Недостающие значения:\\n{df.isnull().sum()}\")\n",
    "\n",
    "# Удаление пропущенных значений\n",
    "df = df.dropna()\n",
    "\n",
    "# Гистограмма длины комментариев\n",
    "df['comment_length'] = df['comment'].apply(len)\n",
    "df['comment_length'].hist(bins=50)\n",
    "plt.title('Распределение длин комментариев')\n",
    "plt.show()\n",
    "\n",
    "# Ограничение максимальной длины комментария\n",
    "MAX_LENGTH = 256"
   ]
  },
  {
   "cell_type": "markdown",
   "id": "584ea4cd",
   "metadata": {},
   "source": [
    "Подготовка токенизатора"
   ]
  },
  {
   "cell_type": "code",
   "execution_count": 12,
   "id": "c6bdf76c",
   "metadata": {},
   "outputs": [],
   "source": [
    "# Загрузка предобученного токенизатора BERT для русского языка\n",
    "tokenizer = BertTokenizer.from_pretrained('ai-forever/ruBert-base')"
   ]
  },
  {
   "cell_type": "markdown",
   "id": "a59d2c12",
   "metadata": {},
   "source": [
    "Создание Dataset и DataLoader"
   ]
  },
  {
   "cell_type": "code",
   "execution_count": 13,
   "id": "6df9d115",
   "metadata": {},
   "outputs": [],
   "source": [
    "# Кастомный класс датасета для обработки текстовых данных и их токенизации\n",
    "class ToxicCommentsDataset(Dataset):\n",
    "    def __init__(self, texts, labels, tokenizer, max_length): # Инициализация датасета\n",
    "        self.texts = texts  # Список текстовых комментариев\n",
    "        self.labels = labels  # Соответствующие метки (токсичный/нет)\n",
    "        self.tokenizer = tokenizer  # Токенизатор BERT\n",
    "        self.max_length = max_length  # Максимальная длина последовательности\n",
    "    \n",
    "    def __len__(self):\n",
    "        # Возвращает общее количество примеров в датасете\n",
    "        return len(self.texts)\n",
    "    \n",
    "    def __getitem__(self, idx): # Получение одного элемента датасета по индексу\n",
    "        text = str(self.texts[idx])  # Получаем текст и приводим к строке\n",
    "        label = self.labels[idx]  # Получаем соответствующую метку\n",
    "        \n",
    "        # Токенизация текста с помощью BERT-токенизатора\n",
    "        encoding = self.tokenizer.encode_plus(\n",
    "            text,\n",
    "            add_special_tokens=True,  # Добавляем [CLS] и [SEP]\n",
    "            max_length=self.max_length,  # Ограничиваем длину последовательности\n",
    "            padding='max_length',  # Дополняем последовательность до max_length\n",
    "            truncation=True,  # Обрезаем последовательность, если она длиннее max_length\n",
    "            return_attention_mask=True,  # Возвращаем маску внимания\n",
    "            return_tensors='pt',  # Возвращаем тензоры PyTorch\n",
    "        )\n",
    "        \n",
    "        # Возвращаем словарь с токенизированными данными\n",
    "        return {\n",
    "            'input_ids': encoding['input_ids'].flatten(),  # ID токенов (выравниваем тензор)\n",
    "            'attention_mask': encoding['attention_mask'].flatten(),  # Маска внимания\n",
    "            'label': torch.tensor(label, dtype=torch.long)  # Метка в виде тензора\n",
    "        }\n",
    "\n",
    "# Разделение данных на обучающую, валидационную и тестовую выборки\n",
    "# Первое разделение: 70% train, 30% временная (temp)\n",
    "train_df, temp_df = train_test_split(\n",
    "    df, \n",
    "    test_size=0.3, \n",
    "    random_state=42,  # Фиксируем random_state для воспроизводимости\n",
    "    stratify=df['toxic']  # Сохраняем распределение классов\n",
    ")\n",
    "\n",
    "# Второе разделение: 50% от temp -> val и test (15% от исходных данных каждый)\n",
    "val_df, test_df = train_test_split(\n",
    "    temp_df, \n",
    "    test_size=0.5, \n",
    "    random_state=42, \n",
    "    stratify=temp_df['toxic']\n",
    ")\n",
    "\n",
    "# Создание объектов датасета для каждой выборки\n",
    "train_dataset = ToxicCommentsDataset(\n",
    "    train_df['comment'].values,  # Тексты для обучения\n",
    "    train_df['toxic'].values,  # Метки для обучения\n",
    "    tokenizer,  # Токенизатор\n",
    "    MAX_LENGTH  # Максимальная длина последовательности\n",
    ")\n",
    "\n",
    "val_dataset = ToxicCommentsDataset(\n",
    "    val_df['comment'].values,  # Тексты для валидации\n",
    "    val_df['toxic'].values,  # Метки для валидации\n",
    "    tokenizer,\n",
    "    MAX_LENGTH\n",
    ")\n",
    "\n",
    "test_dataset = ToxicCommentsDataset(\n",
    "    test_df['comment'].values,  # Тексты для тестирования\n",
    "    test_df['toxic'].values,  # Метки для тестирования\n",
    "    tokenizer,\n",
    "    MAX_LENGTH\n",
    ")\n",
    "\n",
    "# Создание DataLoader'ов для эффективной загрузки данных\n",
    "BATCH_SIZE = 16  # Размер батча\n",
    "\n",
    "# DataLoader для обучающей выборки\n",
    "train_loader = DataLoader(\n",
    "    train_dataset,\n",
    "    batch_size=BATCH_SIZE,\n",
    "    shuffle=True  # Перемешиваем данные для обучения\n",
    ")\n",
    "\n",
    "# DataLoader для валидационной выборки (без перемешивания)\n",
    "val_loader = DataLoader(\n",
    "    val_dataset,\n",
    "    batch_size=BATCH_SIZE\n",
    ")\n",
    "\n",
    "# DataLoader для тестовой выборки (без перемешивания)\n",
    "test_loader = DataLoader(\n",
    "    test_dataset,\n",
    "    batch_size=BATCH_SIZE\n",
    ")"
   ]
  },
  {
   "cell_type": "markdown",
   "id": "3f6ee4cc",
   "metadata": {},
   "source": [
    "Модель BERT для классификации"
   ]
  },
  {
   "cell_type": "code",
   "execution_count": 14,
   "id": "0f7d5957",
   "metadata": {},
   "outputs": [
    {
     "name": "stdout",
     "output_type": "stream",
     "text": [
      "\n",
      "Инициализация модели классификации...\n",
      "\n",
      "==================================================\n",
      "Загрузка предобученной модели BERT: ai-forever/ruBert-base\n",
      "==================================================\n"
     ]
    },
    {
     "name": "stderr",
     "output_type": "stream",
     "text": [
      "Инициализация модели: 100%|██████████| 4/4 [00:03<00:00,  1.15it/s, Создание классификатора...]\n"
     ]
    },
    {
     "name": "stdout",
     "output_type": "stream",
     "text": [
      "\n",
      "Модель успешно загружена!\n",
      "Архитектура:\n",
      "- BERT слои: 12\n",
      "- Размер скрытого слоя: 768\n",
      "- Dropout: 0.1\n",
      "- Выходной слой: 1 нейронов\n",
      "\n",
      "Модель создана за 3.78 секунд\n",
      "Модель перемещена на устройство: cuda\n"
     ]
    }
   ],
   "source": [
    "# Класс для классификации токсичности на основе BERT\n",
    "class BertForToxicClassification(nn.Module):\n",
    "    def __init__(self, bert_model_name='ai-forever/ruBert-base', num_classes=1, dropout=0.1):\n",
    "        super(BertForToxicClassification, self).__init__()\n",
    "        \n",
    "        # Визуализация загрузки BERT модели\n",
    "        print(f\"\\n{'='*50}\")\n",
    "        print(f\"Загрузка предобученной модели BERT: {bert_model_name}\")\n",
    "        print(f\"{'='*50}\")\n",
    "        \n",
    "        # Прогресс-бар для загрузки модели\n",
    "        with tqdm(total=4, desc=\"Инициализация модели\") as pbar:\n",
    "            # 1. Загрузка конфигурации\n",
    "            time.sleep(0.5)\n",
    "            pbar.set_postfix_str(\"Загрузка конфигурации...\")\n",
    "            pbar.update(1)\n",
    "            \n",
    "            # 2. Загрузка весов модели\n",
    "            time.sleep(1)\n",
    "            pbar.set_postfix_str(\"Загрузка весов модели...\")\n",
    "            self.bert = BertModel.from_pretrained(bert_model_name)\n",
    "            pbar.update(1)\n",
    "            \n",
    "            # 3. Инициализация dropout\n",
    "            time.sleep(0.3)\n",
    "            pbar.set_postfix_str(\"Инициализация Dropout...\")\n",
    "            self.dropout = nn.Dropout(dropout)\n",
    "            pbar.update(1)\n",
    "            \n",
    "            # 4. Инициализация классификатора\n",
    "            time.sleep(0.2)\n",
    "            pbar.set_postfix_str(\"Создание классификатора...\")\n",
    "            self.classifier = nn.Linear(self.bert.config.hidden_size, num_classes)\n",
    "            pbar.update(1)\n",
    "        \n",
    "        print(\"\\nМодель успешно загружена!\")\n",
    "        print(f\"Архитектура:\\n\"\n",
    "              f\"- BERT слои: {len(self.bert.encoder.layer)}\\n\"\n",
    "              f\"- Размер скрытого слоя: {self.bert.config.hidden_size}\\n\"\n",
    "              f\"- Dropout: {dropout}\\n\"\n",
    "              f\"- Выходной слой: {num_classes} нейронов\")\n",
    "    \n",
    "    def forward(self, input_ids, attention_mask):\n",
    "        # Прямой проход через BERT\n",
    "        outputs = self.bert(\n",
    "            input_ids=input_ids,\n",
    "            attention_mask=attention_mask\n",
    "        )\n",
    "        \n",
    "        # Получаем выход [CLS] токена\n",
    "        pooled_output = outputs.pooler_output\n",
    "        \n",
    "        # Применяем dropout\n",
    "        pooled_output = self.dropout(pooled_output)\n",
    "        \n",
    "        # Классификатор\n",
    "        logits = self.classifier(pooled_output)\n",
    "        \n",
    "        return logits\n",
    "\n",
    "# Визуализация создания модели\n",
    "print(\"\\nИнициализация модели классификации...\")\n",
    "start_time = time.time()\n",
    "\n",
    "model = BertForToxicClassification().to(device)\n",
    "\n",
    "print(f\"\\nМодель создана за {time.time() - start_time:.2f} секунд\")\n",
    "print(f\"Модель перемещена на устройство: {device}\")"
   ]
  },
  {
   "cell_type": "markdown",
   "id": "ed2449d2",
   "metadata": {},
   "source": [
    "Функции для обучения и оценки"
   ]
  },
  {
   "cell_type": "code",
   "execution_count": 15,
   "id": "1c527f36",
   "metadata": {},
   "outputs": [],
   "source": [
    "def train_epoch(model, data_loader, loss_fn, optimizer, device, epoch_pbar=None):\n",
    "    \"\"\"Функция для выполнения одной эпохи обучения модели.\n",
    "    \n",
    "    Args:\n",
    "        model: Модель для обучения\n",
    "        data_loader: DataLoader с обучающими данными\n",
    "        loss_fn: Функция потерь\n",
    "        optimizer: Оптимизатор\n",
    "        device: Устройство (CPU/GPU)\n",
    "        scheduler: Опциональный планировщик скорости обучения\n",
    "    \"\"\"\n",
    "    model.train()\n",
    "    total_loss = 0\n",
    "    all_preds = []\n",
    "    all_labels = []\n",
    "    \n",
    "    for batch_idx, batch in enumerate(data_loader):\n",
    "        input_ids = batch['input_ids'].to(device)\n",
    "        attention_mask = batch['attention_mask'].to(device)\n",
    "        labels = batch['label'].to(device)\n",
    "        \n",
    "        optimizer.zero_grad()\n",
    "        \n",
    "        outputs = model(\n",
    "            input_ids=input_ids,\n",
    "            attention_mask=attention_mask\n",
    "        )\n",
    "        \n",
    "        loss = loss_fn(outputs.view(-1), labels.float())\n",
    "        total_loss += loss.item()\n",
    "        loss.backward()\n",
    "        optimizer.step()\n",
    "        \n",
    "        preds = torch.sigmoid(outputs).detach().cpu().numpy()\n",
    "        all_preds.extend(preds)\n",
    "        all_labels.extend(labels.cpu().numpy())\n",
    "        \n",
    "        # Обновление прогресс-бара\n",
    "        if epoch_pbar is not None:\n",
    "            epoch_pbar.update(1)\n",
    "            epoch_pbar.set_postfix({\n",
    "                'loss': f\"{total_loss/(batch_idx+1):.4f}\",\n",
    "                'acc': f\"{accuracy_score(all_labels, np.array(all_preds) > 0.5):.4f}\"\n",
    "            })\n",
    "    \n",
    "    # Вычисление метрик\n",
    "    avg_loss = total_loss / len(data_loader)\n",
    "    all_preds = np.array(all_preds) > 0.5\n",
    "    accuracy = accuracy_score(all_labels, all_preds)\n",
    "    f1 = f1_score(all_labels, all_preds)\n",
    "    roc_auc = roc_auc_score(all_labels, all_preds)\n",
    "    pr_auc = average_precision_score(all_labels, all_preds)\n",
    "    \n",
    "    return avg_loss, accuracy, f1, roc_auc, pr_auc\n",
    "\n",
    "def eval_model(model, data_loader, loss_fn, device):\n",
    "    \"\"\"Функция для оценки модели на валидационном/тестовом наборе.\n",
    "    \n",
    "    Args:\n",
    "        model: Модель для оценки\n",
    "        data_loader: DataLoader с данными для оценки\n",
    "        loss_fn: Функция потерь\n",
    "        device: Устройство (CPU/GPU)\n",
    "    \"\"\"\n",
    "    model.eval()  # Переводим модель в режим оценки\n",
    "    total_loss = 0\n",
    "    all_preds = []\n",
    "    all_labels = []\n",
    "    \n",
    "    with torch.no_grad():  # Отключаем вычисление градиентов\n",
    "        for batch in tqdm(data_loader, desc='Evaluating'):\n",
    "            input_ids = batch['input_ids'].to(device)\n",
    "            attention_mask = batch['attention_mask'].to(device)\n",
    "            labels = batch['label'].to(device)\n",
    "            \n",
    "            # Прямой проход\n",
    "            outputs = model(\n",
    "                input_ids=input_ids,\n",
    "                attention_mask=attention_mask\n",
    "            )\n",
    "            \n",
    "            # Вычисление потерь\n",
    "            loss = loss_fn(outputs.view(-1), labels.float())\n",
    "            total_loss += loss.item()\n",
    "            \n",
    "            # Сохранение предсказаний и меток\n",
    "            preds = torch.sigmoid(outputs).cpu().numpy()\n",
    "            all_preds.extend(preds)\n",
    "            all_labels.extend(labels.cpu().numpy())\n",
    "    \n",
    "    # Вычисление метрик (аналогично train_epoch)\n",
    "    avg_loss = total_loss / len(data_loader)\n",
    "    all_preds = np.array(all_preds) > 0.5\n",
    "    accuracy = accuracy_score(all_labels, all_preds)\n",
    "    f1 = f1_score(all_labels, all_preds)\n",
    "    roc_auc = roc_auc_score(all_labels, all_preds)\n",
    "    pr_auc = average_precision_score(all_labels, all_preds)\n",
    "    \n",
    "    return avg_loss, accuracy, f1, roc_auc, pr_auc"
   ]
  },
  {
   "cell_type": "markdown",
   "id": "a7bca960",
   "metadata": {},
   "source": [
    "Обучение модели"
   ]
  },
  {
   "cell_type": "code",
   "execution_count": 16,
   "id": "b62ed319",
   "metadata": {},
   "outputs": [
    {
     "name": "stdout",
     "output_type": "stream",
     "text": [
      "\n",
      "==================================================\n",
      "ИНИЦИАЛИЗАЦИЯ ПРОЦЕССА ОБУЧЕНИЯ\n",
      "==================================================\n",
      "Всего эпох: 4\n",
      "Learning rate: 3e-05\n",
      "Устройство обучения: cuda\n",
      "\n",
      "Расчет весов для функции потерь:\n",
      "  Всего примеров: 10088\n",
      "  Токсичных комментариев: 3378.0\n",
      "  Коэффициент pos_weight: 1.49\n",
      "\n",
      "\n",
      "Первый прямой проход через модель:\n",
      "--------------------------------------------------\n",
      "Размер входных данных: torch.Size([16, 256])\n",
      "Тип устройства: cuda\n",
      "--------------------------------------------------\n",
      "Детали обработки:\n"
     ]
    },
    {
     "name": "stderr",
     "output_type": "stream",
     "text": [
      "Эпоха 1/4: 100%|████████████████████| 631/631 [05:05<00:00,  2.06it/s, loss=0.2750, acc=0.9093]\n",
      "Evaluating: 100%|██████████| 136/136 [00:20<00:00,  6.65it/s]\n"
     ]
    },
    {
     "name": "stdout",
     "output_type": "stream",
     "text": [
      "\n",
      "Результаты эпохи 1:\n",
      "--------------------------------------------------\n",
      "Метрика       Обучающая    Валидация\n",
      "--------------------------------------------------\n",
      "Loss             0.2750       0.2284\n",
      "Accuracy         0.9093       0.9320\n",
      "F1               0.8698       0.9011\n",
      "ROC-AUC          0.9082       0.9304\n",
      "PR-AUC           0.7896       0.8376\n",
      "Время выполнения: 326.40 секунд\n",
      " \n"
     ]
    },
    {
     "name": "stderr",
     "output_type": "stream",
     "text": [
      "Эпоха 2/4: 100%|████████████████████| 631/631 [05:02<00:00,  2.09it/s, loss=0.1341, acc=0.9598]\n",
      "Evaluating: 100%|██████████| 136/136 [00:20<00:00,  6.72it/s]\n"
     ]
    },
    {
     "name": "stdout",
     "output_type": "stream",
     "text": [
      "\n",
      "Результаты эпохи 2:\n",
      "--------------------------------------------------\n",
      "Метрика       Обучающая    Валидация\n",
      "--------------------------------------------------\n",
      "Loss             0.1341       0.3401\n",
      "Accuracy         0.9598       0.9195\n",
      "F1               0.9414       0.8752\n",
      "ROC-AUC          0.9612       0.9004\n",
      "PR-AUC           0.8983       0.8198\n",
      "Время выполнения: 322.67 секунд\n",
      " \n"
     ]
    },
    {
     "name": "stderr",
     "output_type": "stream",
     "text": [
      "Эпоха 3/4: 100%|████████████████████| 631/631 [05:05<00:00,  2.06it/s, loss=0.0640, acc=0.9837]\n",
      "Evaluating: 100%|██████████| 136/136 [00:20<00:00,  6.75it/s]\n"
     ]
    },
    {
     "name": "stdout",
     "output_type": "stream",
     "text": [
      "\n",
      "Результаты эпохи 3:\n",
      "--------------------------------------------------\n",
      "Метрика       Обучающая    Валидация\n",
      "--------------------------------------------------\n",
      "Loss             0.0640       0.2845\n",
      "Accuracy         0.9837       0.9163\n",
      "F1               0.9760       0.8827\n",
      "ROC-AUC          0.9846       0.9223\n",
      "PR-AUC           0.9570       0.8020\n",
      "Время выполнения: 326.07 секунд\n",
      " \n"
     ]
    },
    {
     "name": "stderr",
     "output_type": "stream",
     "text": [
      "Эпоха 4/4: 100%|████████████████████| 631/631 [04:55<00:00,  2.13it/s, loss=0.0389, acc=0.9889]\n",
      "Evaluating: 100%|██████████| 136/136 [00:20<00:00,  6.72it/s]\n"
     ]
    },
    {
     "name": "stdout",
     "output_type": "stream",
     "text": [
      "\n",
      "Результаты эпохи 4:\n",
      "--------------------------------------------------\n",
      "Метрика       Обучающая    Валидация\n",
      "--------------------------------------------------\n",
      "Loss             0.0389       0.4015\n",
      "Accuracy         0.9889       0.9269\n",
      "F1               0.9835       0.8910\n",
      "ROC-AUC          0.9889       0.9183\n",
      "PR-AUC           0.9711       0.8300\n",
      "Время выполнения: 316.03 секунд\n",
      " \n",
      "\n",
      "Визуализация результатов обучения:\n"
     ]
    },
    {
     "data": {
      "image/png": "[encoded data removed]",
      "text/plain": [
       "<Figure size 1200x500 with 2 Axes>"
      ]
     },
     "metadata": {},
     "output_type": "display_data"
    },
    {
     "name": "stdout",
     "output_type": "stream",
     "text": [
      "\n",
      "==================================================\n",
      "ОБУЧЕНИЕ ЗАВЕРШЕНО\n",
      "==================================================\n",
      "Лучшая точность на валидации: 0.9320\n",
      "Лучший F1-score: 0.9011\n",
      "Лучший ROC-AUC: 0.9304\n",
      "==================================================\n",
      "\n"
     ]
    }
   ],
   "source": [
    "# Обучение модели\n",
    "EPOCHS = 4\n",
    "LEARNING_RATE = 3e-5\n",
    "\n",
    "print(\"\\n\" + \"=\"*50)\n",
    "print(\"ИНИЦИАЛИЗАЦИЯ ПРОЦЕССА ОБУЧЕНИЯ\")\n",
    "print(\"=\"*50)\n",
    "print(f\"Всего эпох: {EPOCHS}\")\n",
    "print(f\"Learning rate: {LEARNING_RATE:.0e}\")\n",
    "print(f\"Устройство обучения: {device}\\n\")\n",
    "\n",
    "# Расчет весов\n",
    "print(\"Расчет весов для функции потерь:\")\n",
    "print(f\"  Всего примеров: {len(train_df)}\")\n",
    "print(f\"  Токсичных комментариев: {train_df['toxic'].sum()}\")\n",
    "print(f\"  Коэффициент pos_weight: {len(train_df) / (2 * train_df['toxic'].sum()):.2f}\\n\")\n",
    "\n",
    "# Инициализация модели\n",
    "pos_weight = torch.tensor([len(train_df) / (2 * train_df['toxic'].sum())]).to(device)\n",
    "loss_fn = nn.BCEWithLogitsLoss(pos_weight=pos_weight)\n",
    "optimizer = AdamW(model.parameters(), lr=LEARNING_RATE)\n",
    "\n",
    "history = {'train': [], 'val': []}\n",
    "\n",
    "for epoch in range(EPOCHS):\n",
    "    start_time = time.time()\n",
    "    \n",
    "    # Сначала выводим информацию о модели (только для первой эпохи)\n",
    "    if epoch == 0:\n",
    "        print(\"\\nПервый прямой проход через модель:\")\n",
    "        print(\"-\"*50)\n",
    "        print(f\"Размер входных данных: torch.Size([{BATCH_SIZE}, {MAX_LENGTH}])\")\n",
    "        print(f\"Тип устройства: {device}\")\n",
    "        print(\"-\"*50)\n",
    "        print(\"Детали обработки:\")\n",
    "    \n",
    "    # Затем создаем прогресс-бар для эпохи\n",
    "    with tqdm(total=len(train_loader), \n",
    "              desc=f\"Эпоха {epoch+1}/{EPOCHS}\", \n",
    "              bar_format=\"{l_bar}{bar:20}{r_bar}\",\n",
    "              initial=0, \n",
    "              postfix={'loss': '0.0000', 'acc': '0.0000'}) as epoch_pbar:\n",
    "        \n",
    "        # Обучение с обновлением прогресс-бара\n",
    "        train_loss, train_acc, train_f1, train_roc, train_pr = train_epoch(\n",
    "            model, train_loader, loss_fn, optimizer, device, epoch_pbar\n",
    "        )\n",
    "    \n",
    "    # Закрываем прогресс-бар эпохи\n",
    "    epoch_pbar.close()\n",
    "    \n",
    "    # Валидация\n",
    "    val_loss, val_acc, val_f1, val_roc, val_pr = eval_model(\n",
    "        model, val_loader, loss_fn, device\n",
    "    )\n",
    "    \n",
    "    # Сохранение результатов\n",
    "    history['train'].append({\n",
    "        'loss': train_loss,\n",
    "        'accuracy': train_acc,\n",
    "        'f1': train_f1,\n",
    "        'roc_auc': train_roc,\n",
    "        'pr_auc': train_pr\n",
    "    })\n",
    "    history['val'].append({\n",
    "        'loss': val_loss,\n",
    "        'accuracy': val_acc,\n",
    "        'f1': val_f1,\n",
    "        'roc_auc': val_roc,\n",
    "        'pr_auc': val_pr\n",
    "    })\n",
    "    \n",
    "    # Вывод метрик\n",
    "    print(f\"\\nРезультаты эпохи {epoch + 1}:\")\n",
    "    print(\"-\"*50)\n",
    "    print(f\"{'Метрика':<10} {'Обучающая':>12} {'Валидация':>12}\")\n",
    "    print(\"-\"*50)\n",
    "    print(f\"{'Loss':<10} {train_loss:>12.4f} {val_loss:>12.4f}\")\n",
    "    print(f\"{'Accuracy':<10} {train_acc:>12.4f} {val_acc:>12.4f}\")\n",
    "    print(f\"{'F1':<10} {train_f1:>12.4f} {val_f1:>12.4f}\")\n",
    "    print(f\"{'ROC-AUC':<10} {train_roc:>12.4f} {val_roc:>12.4f}\")\n",
    "    print(f\"{'PR-AUC':<10} {train_pr:>12.4f} {val_pr:>12.4f}\")\n",
    "    print(f\"Время выполнения: {time.time() - start_time:.2f} секунд\")\n",
    "    print(\" \")\n",
    "\n",
    "# Визуализация\n",
    "def plot_training_history(history):\n",
    "    plt.figure(figsize=(12, 5))\n",
    "    \n",
    "    plt.subplot(1, 2, 1)\n",
    "    plt.plot([x['loss'] for x in history['train']], 'b-', label='Обучающая')\n",
    "    plt.plot([x['loss'] for x in history['val']], 'r-', label='Валидация')\n",
    "    plt.title('Функция потерь')\n",
    "    plt.xlabel('Эпоха')\n",
    "    plt.ylabel('Loss')\n",
    "    plt.grid(True)\n",
    "    plt.legend()\n",
    "    \n",
    "    plt.subplot(1, 2, 2)\n",
    "    plt.plot([x['accuracy'] for x in history['train']], 'b-', label='Обучающая')\n",
    "    plt.plot([x['accuracy'] for x in history['val']], 'r-', label='Валидация')\n",
    "    plt.title('Точность')\n",
    "    plt.xlabel('Эпоха')\n",
    "    plt.ylabel('Accuracy')\n",
    "    plt.grid(True)\n",
    "    plt.legend()\n",
    "    \n",
    "    plt.tight_layout()\n",
    "    plt.show()\n",
    "\n",
    "print(\"\\nВизуализация результатов обучения:\")\n",
    "plot_training_history(history)\n",
    "\n",
    "# Итоги\n",
    "print(\"\\n\" + \"=\"*50)\n",
    "print(\"ОБУЧЕНИЕ ЗАВЕРШЕНО\")\n",
    "print(\"=\"*50)\n",
    "print(f\"Лучшая точность на валидации: {max([x['accuracy'] for x in history['val']]):.4f}\")\n",
    "print(f\"Лучший F1-score: {max([x['f1'] for x in history['val']]):.4f}\")\n",
    "print(f\"Лучший ROC-AUC: {max([x['roc_auc'] for x in history['val']]):.4f}\")\n",
    "print(\"=\"*50 + \"\\n\")"
   ]
  },
  {
   "cell_type": "markdown",
   "id": "61137eac",
   "metadata": {},
   "source": [
    "Оценка на тестовом наборе"
   ]
  },
  {
   "cell_type": "code",
   "execution_count": 17,
   "id": "c6922769",
   "metadata": {},
   "outputs": [
    {
     "name": "stderr",
     "output_type": "stream",
     "text": [
      "Evaluating: 100%|██████████| 136/136 [00:20<00:00,  6.70it/s]"
     ]
    },
    {
     "name": "stdout",
     "output_type": "stream",
     "text": [
      "Test results:\n",
      "Loss: 0.4665\n",
      "Accuracy: 0.9177\n",
      "F1 Score: 0.8759\n",
      "ROC-AUC: 0.9052\n",
      "PR-AUC: 0.8116\n"
     ]
    },
    {
     "name": "stderr",
     "output_type": "stream",
     "text": [
      "\n"
     ]
    }
   ],
   "source": [
    "test_loss, test_acc, test_f1, test_roc, test_pr = eval_model(\n",
    "    model, test_loader, loss_fn, device\n",
    ")\n",
    "print(f'Test results:')\n",
    "print(f'Loss: {test_loss:.4f}')\n",
    "print(f'Accuracy: {test_acc:.4f}')\n",
    "print(f'F1 Score: {test_f1:.4f}')\n",
    "print(f'ROC-AUC: {test_roc:.4f}')\n",
    "print(f'PR-AUC: {test_pr:.4f}')"
   ]
  },
  {
   "cell_type": "markdown",
   "id": "4338f440",
   "metadata": {},
   "source": [
    "Сохранение модели"
   ]
  },
  {
   "cell_type": "code",
   "execution_count": 18,
   "id": "67d69e48",
   "metadata": {},
   "outputs": [],
   "source": [
    "torch.save(model.state_dict(), 'bert_toxic_classifier.pth')"
   ]
  }
 ],
 "metadata": {
  "kernelspec": {
   "display_name": "Python 3 (ipykernel)",
   "language": "python",
   "name": "python3"
  },
  "language_info": {
   "codemirror_mode": {
    "name": "ipython",
    "version": 3
   },
   "file_extension": ".py",
   "mimetype": "text/x-python",
   "name": "python",
   "nbconvert_exporter": "python",
   "pygments_lexer": "ipython3",
   "version": "3.11.9"
  }
 },
 "nbformat": 4,
 "nbformat_minor": 5
}
