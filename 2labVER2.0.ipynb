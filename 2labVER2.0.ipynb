{
 "cells": [
  {
   "cell_type": "code",
   "execution_count": 1,
   "id": "2725ab58-6e1a-4058-a473-180f7f20dc21",
   "metadata": {},
   "outputs": [
    {
     "name": "stdout",
     "output_type": "stream",
     "text": [
      "Defaulting to user installation because normal site-packages is not writeable\n",
      "Collecting torch\n",
      "  Downloading torch-2.6.0-cp311-cp311-win_amd64.whl.metadata (28 kB)\n",
      "Collecting torchvision\n",
      "  Downloading torchvision-0.21.0-cp311-cp311-win_amd64.whl.metadata (6.3 kB)\n",
      "Requirement already satisfied: matplotlib in c:\\users\\user\\appdata\\roaming\\python\\python311\\site-packages (3.10.1)\n",
      "Collecting filelock (from torch)\n",
      "  Downloading filelock-3.18.0-py3-none-any.whl.metadata (2.9 kB)\n",
      "Requirement already satisfied: typing-extensions>=4.10.0 in c:\\users\\user\\appdata\\roaming\\python\\python311\\site-packages (from torch) (4.12.2)\n",
      "Collecting networkx (from torch)\n",
      "  Using cached networkx-3.4.2-py3-none-any.whl.metadata (6.3 kB)\n",
      "Requirement already satisfied: jinja2 in c:\\users\\user\\appdata\\roaming\\python\\python311\\site-packages (from torch) (3.1.6)\n",
      "Collecting fsspec (from torch)\n",
      "  Downloading fsspec-2025.3.0-py3-none-any.whl.metadata (11 kB)\n",
      "Collecting sympy==1.13.1 (from torch)\n",
      "  Using cached sympy-1.13.1-py3-none-any.whl.metadata (12 kB)\n",
      "Collecting mpmath<1.4,>=1.1.0 (from sympy==1.13.1->torch)\n",
      "  Using cached mpmath-1.3.0-py3-none-any.whl.metadata (8.6 kB)\n",
      "Requirement already satisfied: numpy in c:\\users\\user\\appdata\\roaming\\python\\python311\\site-packages (from torchvision) (1.26.4)\n",
      "Requirement already satisfied: pillow!=8.3.*,>=5.3.0 in c:\\users\\user\\appdata\\roaming\\python\\python311\\site-packages (from torchvision) (11.1.0)\n",
      "Requirement already satisfied: contourpy>=1.0.1 in c:\\users\\user\\appdata\\roaming\\python\\python311\\site-packages (from matplotlib) (1.3.1)\n",
      "Requirement already satisfied: cycler>=0.10 in c:\\users\\user\\appdata\\roaming\\python\\python311\\site-packages (from matplotlib) (0.12.1)\n",
      "Requirement already satisfied: fonttools>=4.22.0 in c:\\users\\user\\appdata\\roaming\\python\\python311\\site-packages (from matplotlib) (4.56.0)\n",
      "Requirement already satisfied: kiwisolver>=1.3.1 in c:\\users\\user\\appdata\\roaming\\python\\python311\\site-packages (from matplotlib) (1.4.8)\n",
      "Requirement already satisfied: packaging>=20.0 in c:\\users\\user\\appdata\\roaming\\python\\python311\\site-packages (from matplotlib) (24.2)\n",
      "Requirement already satisfied: pyparsing>=2.3.1 in c:\\users\\user\\appdata\\roaming\\python\\python311\\site-packages (from matplotlib) (3.2.1)\n",
      "Requirement already satisfied: python-dateutil>=2.7 in c:\\users\\user\\appdata\\roaming\\python\\python311\\site-packages (from matplotlib) (2.9.0.post0)\n",
      "Requirement already satisfied: six>=1.5 in c:\\users\\user\\appdata\\roaming\\python\\python311\\site-packages (from python-dateutil>=2.7->matplotlib) (1.17.0)\n",
      "Requirement already satisfied: MarkupSafe>=2.0 in c:\\users\\user\\appdata\\roaming\\python\\python311\\site-packages (from jinja2->torch) (3.0.2)\n",
      "Downloading torch-2.6.0-cp311-cp311-win_amd64.whl (204.2 MB)\n",
      "   ---------------------------------------- 0.0/204.2 MB ? eta -:--:--\n",
      "   ---------------------------------------- 0.3/204.2 MB ? eta -:--:--\n",
      "   ---------------------------------------- 1.0/204.2 MB 3.6 MB/s eta 0:00:57\n",
      "   ---------------------------------------- 2.1/204.2 MB 4.1 MB/s eta 0:00:50\n",
      "    --------------------------------------- 3.1/204.2 MB 4.3 MB/s eta 0:00:47\n",
      "    --------------------------------------- 4.2/204.2 MB 4.6 MB/s eta 0:00:44\n",
      "   - -------------------------------------- 5.5/204.2 MB 4.9 MB/s eta 0:00:41\n",
      "   - -------------------------------------- 7.1/204.2 MB 5.3 MB/s eta 0:00:38\n",
      "   - -------------------------------------- 8.7/204.2 MB 5.7 MB/s eta 0:00:35\n",
      "   -- ------------------------------------- 10.5/204.2 MB 6.0 MB/s eta 0:00:33\n",
      "   -- ------------------------------------- 12.8/204.2 MB 6.6 MB/s eta 0:00:29\n",
      "   -- ------------------------------------- 14.7/204.2 MB 6.8 MB/s eta 0:00:28\n",
      "   --- ------------------------------------ 16.8/204.2 MB 7.1 MB/s eta 0:00:27\n",
      "   --- ------------------------------------ 19.4/204.2 MB 7.6 MB/s eta 0:00:25\n",
      "   ---- ----------------------------------- 22.3/204.2 MB 8.1 MB/s eta 0:00:23\n",
      "   ---- ----------------------------------- 24.6/204.2 MB 8.3 MB/s eta 0:00:22\n",
      "   ----- ---------------------------------- 27.5/204.2 MB 8.6 MB/s eta 0:00:21\n",
      "   ----- ---------------------------------- 30.1/204.2 MB 9.0 MB/s eta 0:00:20\n",
      "   ------ --------------------------------- 32.2/204.2 MB 9.0 MB/s eta 0:00:20\n",
      "   ------ --------------------------------- 34.9/204.2 MB 9.2 MB/s eta 0:00:19\n",
      "   ------- -------------------------------- 38.0/204.2 MB 9.5 MB/s eta 0:00:18\n",
      "   ------- -------------------------------- 40.4/204.2 MB 9.6 MB/s eta 0:00:18\n",
      "   -------- ------------------------------- 43.0/204.2 MB 9.7 MB/s eta 0:00:17\n",
      "   -------- ------------------------------- 45.6/204.2 MB 9.8 MB/s eta 0:00:17\n",
      "   --------- ------------------------------ 49.0/204.2 MB 10.1 MB/s eta 0:00:16\n",
      "   ---------- ----------------------------- 51.9/204.2 MB 10.3 MB/s eta 0:00:15\n",
      "   ---------- ----------------------------- 54.3/204.2 MB 10.3 MB/s eta 0:00:15\n",
      "   ----------- ---------------------------- 56.6/204.2 MB 10.4 MB/s eta 0:00:15\n",
      "   ----------- ---------------------------- 59.8/204.2 MB 10.6 MB/s eta 0:00:14\n",
      "   ------------ --------------------------- 62.9/204.2 MB 10.8 MB/s eta 0:00:14\n",
      "   ------------ --------------------------- 65.5/204.2 MB 10.8 MB/s eta 0:00:13\n",
      "   ------------- -------------------------- 68.2/204.2 MB 10.8 MB/s eta 0:00:13\n",
      "   ------------- -------------------------- 71.3/204.2 MB 11.0 MB/s eta 0:00:13\n",
      "   -------------- ------------------------- 73.9/204.2 MB 11.0 MB/s eta 0:00:12\n",
      "   --------------- ------------------------ 77.1/204.2 MB 11.1 MB/s eta 0:00:12\n",
      "   --------------- ------------------------ 79.7/204.2 MB 11.2 MB/s eta 0:00:12\n",
      "   ---------------- ----------------------- 82.8/204.2 MB 11.3 MB/s eta 0:00:11\n",
      "   ---------------- ----------------------- 84.9/204.2 MB 11.3 MB/s eta 0:00:11\n",
      "   ----------------- ---------------------- 88.3/204.2 MB 11.4 MB/s eta 0:00:11\n",
      "   ----------------- ---------------------- 90.2/204.2 MB 11.4 MB/s eta 0:00:11\n",
      "   ------------------ --------------------- 93.3/204.2 MB 11.5 MB/s eta 0:00:10\n",
      "   ------------------ --------------------- 94.9/204.2 MB 11.5 MB/s eta 0:00:10\n",
      "   ------------------- -------------------- 98.3/204.2 MB 11.5 MB/s eta 0:00:10\n",
      "   ------------------- ------------------- 101.4/204.2 MB 11.6 MB/s eta 0:00:09\n",
      "   ------------------- ------------------- 103.5/204.2 MB 11.6 MB/s eta 0:00:09\n",
      "   -------------------- ------------------ 105.9/204.2 MB 11.5 MB/s eta 0:00:09\n",
      "   -------------------- ------------------ 109.1/204.2 MB 11.6 MB/s eta 0:00:09\n",
      "   --------------------- ----------------- 110.1/204.2 MB 11.5 MB/s eta 0:00:09\n",
      "   --------------------- ----------------- 111.9/204.2 MB 11.4 MB/s eta 0:00:09\n",
      "   --------------------- ----------------- 114.0/204.2 MB 11.4 MB/s eta 0:00:08\n",
      "   ---------------------- ---------------- 116.1/204.2 MB 11.4 MB/s eta 0:00:08\n",
      "   ---------------------- ---------------- 118.8/204.2 MB 11.4 MB/s eta 0:00:08\n",
      "   ----------------------- --------------- 121.4/204.2 MB 11.4 MB/s eta 0:00:08\n",
      "   ----------------------- --------------- 123.7/204.2 MB 11.4 MB/s eta 0:00:08\n",
      "   ----------------------- --------------- 125.6/204.2 MB 11.4 MB/s eta 0:00:07\n",
      "   ------------------------ -------------- 127.4/204.2 MB 11.3 MB/s eta 0:00:07\n",
      "   ------------------------ -------------- 129.8/204.2 MB 11.3 MB/s eta 0:00:07\n",
      "   ------------------------- ------------- 132.1/204.2 MB 11.3 MB/s eta 0:00:07\n",
      "   ------------------------- ------------- 133.7/204.2 MB 11.3 MB/s eta 0:00:07\n",
      "   -------------------------- ------------ 136.6/204.2 MB 11.3 MB/s eta 0:00:06\n",
      "   -------------------------- ------------ 138.4/204.2 MB 11.3 MB/s eta 0:00:06\n",
      "   -------------------------- ------------ 140.2/204.2 MB 11.2 MB/s eta 0:00:06\n",
      "   --------------------------- ----------- 143.1/204.2 MB 11.3 MB/s eta 0:00:06\n",
      "   --------------------------- ----------- 145.5/204.2 MB 11.3 MB/s eta 0:00:06\n",
      "   ---------------------------- ---------- 147.3/204.2 MB 11.3 MB/s eta 0:00:06\n",
      "   ---------------------------- ---------- 149.9/204.2 MB 11.2 MB/s eta 0:00:05\n",
      "   ----------------------------- --------- 152.3/204.2 MB 11.2 MB/s eta 0:00:05\n",
      "   ----------------------------- --------- 154.7/204.2 MB 11.3 MB/s eta 0:00:05\n",
      "   ----------------------------- --------- 156.8/204.2 MB 11.3 MB/s eta 0:00:05\n",
      "   ------------------------------ -------- 159.1/204.2 MB 11.2 MB/s eta 0:00:05\n",
      "   ------------------------------ -------- 161.5/204.2 MB 11.2 MB/s eta 0:00:04\n",
      "   ------------------------------- ------- 163.6/204.2 MB 11.2 MB/s eta 0:00:04\n",
      "   ------------------------------- ------- 165.9/204.2 MB 11.2 MB/s eta 0:00:04\n",
      "   -------------------------------- ------ 168.3/204.2 MB 11.2 MB/s eta 0:00:04\n",
      "   -------------------------------- ------ 170.7/204.2 MB 11.2 MB/s eta 0:00:03\n",
      "   --------------------------------- ----- 173.0/204.2 MB 11.2 MB/s eta 0:00:03\n",
      "   --------------------------------- ----- 175.4/204.2 MB 11.2 MB/s eta 0:00:03\n",
      "   --------------------------------- ----- 177.2/204.2 MB 11.2 MB/s eta 0:00:03\n",
      "   ---------------------------------- ---- 179.6/204.2 MB 11.2 MB/s eta 0:00:03\n",
      "   ---------------------------------- ---- 181.9/204.2 MB 11.2 MB/s eta 0:00:02\n",
      "   ----------------------------------- --- 184.0/204.2 MB 11.2 MB/s eta 0:00:02\n",
      "   ----------------------------------- --- 186.6/204.2 MB 11.2 MB/s eta 0:00:02\n",
      "   ------------------------------------ -- 189.0/204.2 MB 11.2 MB/s eta 0:00:02\n",
      "   ------------------------------------ -- 191.9/204.2 MB 11.2 MB/s eta 0:00:02\n",
      "   ------------------------------------- - 194.5/204.2 MB 11.3 MB/s eta 0:00:01\n",
      "   ------------------------------------- - 197.1/204.2 MB 11.3 MB/s eta 0:00:01\n",
      "   --------------------------------------  199.8/204.2 MB 11.3 MB/s eta 0:00:01\n",
      "   --------------------------------------  202.1/204.2 MB 11.3 MB/s eta 0:00:01\n",
      "   --------------------------------------  203.9/204.2 MB 11.3 MB/s eta 0:00:01\n",
      "   --------------------------------------- 204.2/204.2 MB 11.2 MB/s eta 0:00:00\n",
      "Using cached sympy-1.13.1-py3-none-any.whl (6.2 MB)\n",
      "Downloading torchvision-0.21.0-cp311-cp311-win_amd64.whl (1.6 MB)\n",
      "   ---------------------------------------- 0.0/1.6 MB ? eta -:--:--\n",
      "   ---------------------------------------- 1.6/1.6 MB 10.4 MB/s eta 0:00:00\n",
      "Downloading filelock-3.18.0-py3-none-any.whl (16 kB)\n",
      "Downloading fsspec-2025.3.0-py3-none-any.whl (193 kB)\n",
      "Using cached networkx-3.4.2-py3-none-any.whl (1.7 MB)\n",
      "Using cached mpmath-1.3.0-py3-none-any.whl (536 kB)\n",
      "Installing collected packages: mpmath, sympy, networkx, fsspec, filelock, torch, torchvision\n",
      "Successfully installed filelock-3.18.0 fsspec-2025.3.0 mpmath-1.3.0 networkx-3.4.2 sympy-1.13.1 torch-2.6.0 torchvision-0.21.0\n"
     ]
    }
   ],
   "source": [
    "!pip install torch torchvision matplotlib"
   ]
  },
  {
   "cell_type": "code",
   "execution_count": 2,
   "id": "acec899b-f9cf-4144-86b3-b32c3c66408a",
   "metadata": {},
   "outputs": [],
   "source": [
    "import torch\n",
    "from torch.utils.data import Dataset, DataLoader\n",
    "from torchvision import datasets, transforms\n",
    "import torch.nn as nn\n",
    "import torch.optim as optim\n",
    "import matplotlib.pyplot as plt"
   ]
  },
  {
   "cell_type": "code",
   "execution_count": 3,
   "id": "8f5ad82e-c1c1-4b6a-b2a8-566fbca7da71",
   "metadata": {},
   "outputs": [
    {
     "name": "stderr",
     "output_type": "stream",
     "text": [
      "100%|█████████████████████████████████████████████████████████████████████████████| 9.91M/9.91M [00:03<00:00, 3.16MB/s]\n",
      "100%|██████████████████████████████████████████████████████████████████████████████| 28.9k/28.9k [00:00<00:00, 206kB/s]\n",
      "100%|█████████████████████████████████████████████████████████████████████████████| 1.65M/1.65M [00:00<00:00, 2.33MB/s]\n",
      "100%|█████████████████████████████████████████████████████████████████████████████████████| 4.54k/4.54k [00:00<?, ?B/s]\n"
     ]
    }
   ],
   "source": [
    "# 1. Создание датасета и DataLoader для MNIST\n",
    "\n",
    "\n",
    "transform = transforms.Compose([\n",
    "    transforms.ToTensor(),  \n",
    "    transforms.Normalize((0.5,), (0.5,)) \n",
    "])\n",
    "\n",
    "\n",
    "train_data = datasets.MNIST(root='data', train=True, download=True, transform=transform)\n",
    "test_data = datasets.MNIST(root='data', train=False, download=True, transform=transform)\n",
    "\n",
    "\n",
    "train_loader = DataLoader(train_data, batch_size=64, shuffle=True)\n",
    "test_loader = DataLoader(test_data, batch_size=64, shuffle=False)"
   ]
  },
  {
   "cell_type": "code",
   "execution_count": 4,
   "id": "5cc9f824-f8f7-4125-a9cd-969d77c1c8cc",
   "metadata": {},
   "outputs": [],
   "source": [
    "# 2. Определение архитектуры модели (MLP)\n",
    "\n",
    "class MLPModel(nn.Module):\n",
    "    def __init__(self):\n",
    "        super(MLPModel, self).__init__()\n",
    "        \n",
    "        self.fc1 = nn.Linear(28*28, 128)  \n",
    "        self.fc2 = nn.Linear(128, 64) \n",
    "        self.fc3 = nn.Linear(64, 10)  \n",
    "        \n",
    "    def forward(self, x):\n",
    "        x = x.view(-1, 28*28)  \n",
    "        x = torch.relu(self.fc1(x))  \n",
    "        x = torch.relu(self.fc2(x)) \n",
    "        x = self.fc3(x)  \n",
    "        return x"
   ]
  },
  {
   "cell_type": "code",
   "execution_count": 5,
   "id": "70513af1-c244-43a2-8452-0cbc2ff3c991",
   "metadata": {},
   "outputs": [],
   "source": [
    "# 3. Инициализация устройства (CUDA если доступно) и модели\n",
    "\n",
    "device = torch.device(\"cuda\" if torch.cuda.is_available() else \"cpu\")\n",
    "model = MLPModel().to(device)  "
   ]
  },
  {
   "cell_type": "code",
   "execution_count": 6,
   "id": "72080501-38f0-4905-a064-a8692fe43d9f",
   "metadata": {},
   "outputs": [],
   "source": [
    "# 4. Определение оптимизатора и функции потерь\n",
    "\n",
    "optimizer = optim.Adam(model.parameters(), lr=0.001)  \n",
    "criterion = nn.CrossEntropyLoss()  "
   ]
  },
  {
   "cell_type": "code",
   "execution_count": 7,
   "id": "6677cf00-2a5a-45b6-9f47-d4da5bc80bde",
   "metadata": {},
   "outputs": [
    {
     "name": "stdout",
     "output_type": "stream",
     "text": [
      "Epoch 1/5, Loss: 0.40880998864229806\n",
      "Epoch 2/5, Loss: 0.20685162250675374\n",
      "Epoch 3/5, Loss: 0.14650264843456398\n",
      "Epoch 4/5, Loss: 0.12202316992429656\n",
      "Epoch 5/5, Loss: 0.10270271232939446\n"
     ]
    }
   ],
   "source": [
    "# 5. Обучение модели\n",
    "\n",
    "num_epochs = 5\n",
    "for epoch in range(num_epochs):\n",
    "    model.train()  \n",
    "    running_loss = 0.0\n",
    "\n",
    "    for inputs, labels in train_loader:\n",
    "        inputs, labels = inputs.to(device), labels.to(device)  \n",
    "\n",
    "        optimizer.zero_grad()  \n",
    "        outputs = model(inputs)  \n",
    "        loss = criterion(outputs, labels)  \n",
    "        loss.backward()  \n",
    "        optimizer.step()  \n",
    "\n",
    "        running_loss += loss.item()  \n",
    "\n",
    "    print(f\"Epoch {epoch+1}/{num_epochs}, Loss: {running_loss/len(train_loader)}\")"
   ]
  },
  {
   "cell_type": "code",
   "execution_count": 8,
   "id": "9469533e-d6d2-41c1-b5b3-b37da20256c8",
   "metadata": {},
   "outputs": [
    {
     "name": "stdout",
     "output_type": "stream",
     "text": [
      "Accuracy: 96.72%\n"
     ]
    }
   ],
   "source": [
    "# 6. Оценка модели на тестовых данных\n",
    "\n",
    "model.eval()\n",
    "correct = 0\n",
    "total = 0\n",
    "\n",
    "with torch.no_grad():\n",
    "    for inputs, labels in test_loader:\n",
    "        inputs, labels = inputs.to(device), labels.to(device)\n",
    "        outputs = model(inputs)\n",
    "        _, predicted = torch.max(outputs, 1) \n",
    "        total += labels.size(0)\n",
    "        correct += (predicted == labels).sum().item()\n",
    "\n",
    "print(f\"Accuracy: {100 * correct / total}%\")"
   ]
  },
  {
   "cell_type": "code",
   "execution_count": 9,
   "id": "91b0c886-7663-495f-9d6c-fbaf6ae2e3c5",
   "metadata": {},
   "outputs": [
    {
     "data": {
      "image/png": "[encoded data removed]",
      "text/plain": [
       "<Figure size 1500x500 with 5 Axes>"
      ]
     },
     "metadata": {},
     "output_type": "display_data"
    }
   ],
   "source": [
    "# 7. Визуализация нескольких примеров тестовых данных и их предсказаний\n",
    "\n",
    "data_iter = iter(test_loader)\n",
    "images, labels = next(data_iter)\n",
    "\n",
    "\n",
    "images = images.cpu().numpy()\n",
    "labels = labels.cpu().numpy()\n",
    "\n",
    "fig, axes = plt.subplots(1, 5, figsize=(15, 5))\n",
    "\n",
    "for i in range(5):\n",
    "    ax = axes[i]\n",
    "    ax.imshow(images[i].reshape(28, 28), cmap='gray')\n",
    "    ax.set_title(f\"True: {labels[i]}\")\n",
    "    ax.axis('off')\n",
    "\n",
    "plt.show()"
   ]
  }
 ],
 "metadata": {
  "kernelspec": {
   "display_name": "Python 3 (ipykernel)",
   "language": "python",
   "name": "python3"
  },
  "language_info": {
   "codemirror_mode": {
    "name": "ipython",
    "version": 3
   },
   "file_extension": ".py",
   "mimetype": "text/x-python",
   "name": "python",
   "nbconvert_exporter": "python",
   "pygments_lexer": "ipython3",
   "version": "3.12.7"
  }
 },
 "nbformat": 4,
 "nbformat_minor": 5
}
