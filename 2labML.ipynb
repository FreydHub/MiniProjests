{
 "cells": [
  {
   "cell_type": "code",
   "execution_count": 1,
   "id": "ae23adda-b6b4-4925-b137-84111bc7a705",
   "metadata": {},
   "outputs": [
    {
     "name": "stdout",
     "output_type": "stream",
     "text": [
      "Defaulting to user installation because normal site-packages is not writeable\n",
      "Requirement already satisfied: numpy in c:\\users\\user\\appdata\\roaming\\python\\python311\\site-packages (1.26.4)\n",
      "Collecting tensorflow\n",
      "  Downloading tensorflow-2.19.0-cp311-cp311-win_amd64.whl.metadata (4.1 kB)\n",
      "Requirement already satisfied: matplotlib in c:\\users\\user\\appdata\\roaming\\python\\python311\\site-packages (3.10.1)\n",
      "Collecting absl-py>=1.0.0 (from tensorflow)\n",
      "  Downloading absl_py-2.1.0-py3-none-any.whl.metadata (2.3 kB)\n",
      "Collecting astunparse>=1.6.0 (from tensorflow)\n",
      "  Downloading astunparse-1.6.3-py2.py3-none-any.whl.metadata (4.4 kB)\n",
      "Collecting flatbuffers>=24.3.25 (from tensorflow)\n",
      "  Downloading flatbuffers-25.2.10-py2.py3-none-any.whl.metadata (875 bytes)\n",
      "Collecting gast!=0.5.0,!=0.5.1,!=0.5.2,>=0.2.1 (from tensorflow)\n",
      "  Downloading gast-0.6.0-py3-none-any.whl.metadata (1.3 kB)\n",
      "Collecting google-pasta>=0.1.1 (from tensorflow)\n",
      "  Downloading google_pasta-0.2.0-py3-none-any.whl.metadata (814 bytes)\n",
      "Collecting libclang>=13.0.0 (from tensorflow)\n",
      "  Downloading libclang-18.1.1-py2.py3-none-win_amd64.whl.metadata (5.3 kB)\n",
      "Collecting opt-einsum>=2.3.2 (from tensorflow)\n",
      "  Downloading opt_einsum-3.4.0-py3-none-any.whl.metadata (6.3 kB)\n",
      "Requirement already satisfied: packaging in c:\\users\\user\\appdata\\roaming\\python\\python311\\site-packages (from tensorflow) (24.2)\n",
      "Collecting protobuf!=4.21.0,!=4.21.1,!=4.21.2,!=4.21.3,!=4.21.4,!=4.21.5,<6.0.0dev,>=3.20.3 (from tensorflow)\n",
      "  Downloading protobuf-5.29.3-cp310-abi3-win_amd64.whl.metadata (592 bytes)\n",
      "Requirement already satisfied: requests<3,>=2.21.0 in c:\\users\\user\\appdata\\roaming\\python\\python311\\site-packages (from tensorflow) (2.32.3)\n",
      "Requirement already satisfied: setuptools in c:\\program files\\python311\\lib\\site-packages (from tensorflow) (65.5.0)\n",
      "Requirement already satisfied: six>=1.12.0 in c:\\users\\user\\appdata\\roaming\\python\\python311\\site-packages (from tensorflow) (1.17.0)\n",
      "Collecting termcolor>=1.1.0 (from tensorflow)\n",
      "  Downloading termcolor-2.5.0-py3-none-any.whl.metadata (6.1 kB)\n",
      "Requirement already satisfied: typing-extensions>=3.6.6 in c:\\users\\user\\appdata\\roaming\\python\\python311\\site-packages (from tensorflow) (4.12.2)\n",
      "Requirement already satisfied: wrapt>=1.11.0 in c:\\users\\user\\appdata\\roaming\\python\\python311\\site-packages (from tensorflow) (1.17.2)\n",
      "Collecting grpcio<2.0,>=1.24.3 (from tensorflow)\n",
      "  Downloading grpcio-1.71.0-cp311-cp311-win_amd64.whl.metadata (4.0 kB)\n",
      "Collecting tensorboard~=2.19.0 (from tensorflow)\n",
      "  Downloading tensorboard-2.19.0-py3-none-any.whl.metadata (1.8 kB)\n",
      "Collecting keras>=3.5.0 (from tensorflow)\n",
      "  Downloading keras-3.9.0-py3-none-any.whl.metadata (6.1 kB)\n",
      "Collecting h5py>=3.11.0 (from tensorflow)\n",
      "  Downloading h5py-3.13.0-cp311-cp311-win_amd64.whl.metadata (2.5 kB)\n",
      "Collecting ml-dtypes<1.0.0,>=0.5.1 (from tensorflow)\n",
      "  Downloading ml_dtypes-0.5.1-cp311-cp311-win_amd64.whl.metadata (22 kB)\n",
      "Collecting tensorflow-io-gcs-filesystem>=0.23.1 (from tensorflow)\n",
      "  Downloading tensorflow_io_gcs_filesystem-0.31.0-cp311-cp311-win_amd64.whl.metadata (14 kB)\n",
      "Requirement already satisfied: contourpy>=1.0.1 in c:\\users\\user\\appdata\\roaming\\python\\python311\\site-packages (from matplotlib) (1.3.1)\n",
      "Requirement already satisfied: cycler>=0.10 in c:\\users\\user\\appdata\\roaming\\python\\python311\\site-packages (from matplotlib) (0.12.1)\n",
      "Requirement already satisfied: fonttools>=4.22.0 in c:\\users\\user\\appdata\\roaming\\python\\python311\\site-packages (from matplotlib) (4.56.0)\n",
      "Requirement already satisfied: kiwisolver>=1.3.1 in c:\\users\\user\\appdata\\roaming\\python\\python311\\site-packages (from matplotlib) (1.4.8)\n",
      "Requirement already satisfied: pillow>=8 in c:\\users\\user\\appdata\\roaming\\python\\python311\\site-packages (from matplotlib) (11.1.0)\n",
      "Requirement already satisfied: pyparsing>=2.3.1 in c:\\users\\user\\appdata\\roaming\\python\\python311\\site-packages (from matplotlib) (3.2.1)\n",
      "Requirement already satisfied: python-dateutil>=2.7 in c:\\users\\user\\appdata\\roaming\\python\\python311\\site-packages (from matplotlib) (2.9.0.post0)\n",
      "Collecting wheel<1.0,>=0.23.0 (from astunparse>=1.6.0->tensorflow)\n",
      "  Using cached wheel-0.45.1-py3-none-any.whl.metadata (2.3 kB)\n",
      "Collecting rich (from keras>=3.5.0->tensorflow)\n",
      "  Downloading rich-13.9.4-py3-none-any.whl.metadata (18 kB)\n",
      "Collecting namex (from keras>=3.5.0->tensorflow)\n",
      "  Downloading namex-0.0.8-py3-none-any.whl.metadata (246 bytes)\n",
      "Collecting optree (from keras>=3.5.0->tensorflow)\n",
      "  Downloading optree-0.14.1-cp311-cp311-win_amd64.whl.metadata (50 kB)\n",
      "Requirement already satisfied: charset-normalizer<4,>=2 in c:\\users\\user\\appdata\\roaming\\python\\python311\\site-packages (from requests<3,>=2.21.0->tensorflow) (3.4.1)\n",
      "Requirement already satisfied: idna<4,>=2.5 in c:\\users\\user\\appdata\\roaming\\python\\python311\\site-packages (from requests<3,>=2.21.0->tensorflow) (3.10)\n",
      "Requirement already satisfied: urllib3<3,>=1.21.1 in c:\\users\\user\\appdata\\roaming\\python\\python311\\site-packages (from requests<3,>=2.21.0->tensorflow) (2.3.0)\n",
      "Requirement already satisfied: certifi>=2017.4.17 in c:\\users\\user\\appdata\\roaming\\python\\python311\\site-packages (from requests<3,>=2.21.0->tensorflow) (2025.1.31)\n",
      "Collecting markdown>=2.6.8 (from tensorboard~=2.19.0->tensorflow)\n",
      "  Downloading Markdown-3.7-py3-none-any.whl.metadata (7.0 kB)\n",
      "Collecting tensorboard-data-server<0.8.0,>=0.7.0 (from tensorboard~=2.19.0->tensorflow)\n",
      "  Downloading tensorboard_data_server-0.7.2-py3-none-any.whl.metadata (1.1 kB)\n",
      "Collecting werkzeug>=1.0.1 (from tensorboard~=2.19.0->tensorflow)\n",
      "  Downloading werkzeug-3.1.3-py3-none-any.whl.metadata (3.7 kB)\n",
      "Requirement already satisfied: MarkupSafe>=2.1.1 in c:\\users\\user\\appdata\\roaming\\python\\python311\\site-packages (from werkzeug>=1.0.1->tensorboard~=2.19.0->tensorflow) (3.0.2)\n",
      "Collecting markdown-it-py>=2.2.0 (from rich->keras>=3.5.0->tensorflow)\n",
      "  Downloading markdown_it_py-3.0.0-py3-none-any.whl.metadata (6.9 kB)\n",
      "Requirement already satisfied: pygments<3.0.0,>=2.13.0 in c:\\users\\user\\appdata\\roaming\\python\\python311\\site-packages (from rich->keras>=3.5.0->tensorflow) (2.19.1)\n",
      "Collecting mdurl~=0.1 (from markdown-it-py>=2.2.0->rich->keras>=3.5.0->tensorflow)\n",
      "  Downloading mdurl-0.1.2-py3-none-any.whl.metadata (1.6 kB)\n",
      "Downloading tensorflow-2.19.0-cp311-cp311-win_amd64.whl (375.9 MB)\n",
      "   ---------------------------------------- 0.0/375.9 MB ? eta -:--:--\n",
      "   ---------------------------------------- 1.0/375.9 MB 7.2 MB/s eta 0:00:52\n",
      "    --------------------------------------- 5.0/375.9 MB 14.4 MB/s eta 0:00:26\n",
      "   - -------------------------------------- 9.4/375.9 MB 16.8 MB/s eta 0:00:22\n",
      "   - -------------------------------------- 13.4/375.9 MB 17.9 MB/s eta 0:00:21\n",
      "   - -------------------------------------- 18.4/375.9 MB 19.0 MB/s eta 0:00:19\n",
      "   -- ------------------------------------- 23.3/375.9 MB 20.0 MB/s eta 0:00:18\n",
      "   -- ------------------------------------- 27.5/375.9 MB 20.1 MB/s eta 0:00:18\n",
      "   --- ------------------------------------ 32.2/375.9 MB 20.5 MB/s eta 0:00:17\n",
      "   --- ------------------------------------ 36.4/375.9 MB 20.5 MB/s eta 0:00:17\n",
      "   ---- ----------------------------------- 40.4/375.9 MB 20.4 MB/s eta 0:00:17\n",
      "   ---- ----------------------------------- 44.3/375.9 MB 20.4 MB/s eta 0:00:17\n",
      "   ----- ---------------------------------- 48.5/375.9 MB 20.2 MB/s eta 0:00:17\n",
      "   ----- ---------------------------------- 53.5/375.9 MB 20.4 MB/s eta 0:00:16\n",
      "   ------ --------------------------------- 57.4/375.9 MB 20.3 MB/s eta 0:00:16\n",
      "   ------ --------------------------------- 61.6/375.9 MB 20.3 MB/s eta 0:00:16\n",
      "   ------ --------------------------------- 63.7/375.9 MB 19.7 MB/s eta 0:00:16\n",
      "   ------- -------------------------------- 69.7/375.9 MB 20.3 MB/s eta 0:00:16\n",
      "   ------- -------------------------------- 72.1/375.9 MB 19.7 MB/s eta 0:00:16\n",
      "   -------- ------------------------------- 78.4/375.9 MB 20.3 MB/s eta 0:00:15\n",
      "   -------- ------------------------------- 82.1/375.9 MB 20.2 MB/s eta 0:00:15\n",
      "   --------- ------------------------------ 86.8/375.9 MB 20.3 MB/s eta 0:00:15\n",
      "   --------- ------------------------------ 91.8/375.9 MB 20.5 MB/s eta 0:00:14\n",
      "   ---------- ----------------------------- 96.7/375.9 MB 20.7 MB/s eta 0:00:14\n",
      "   ---------- ---------------------------- 101.4/375.9 MB 20.8 MB/s eta 0:00:14\n",
      "   ---------- ---------------------------- 105.4/375.9 MB 20.7 MB/s eta 0:00:14\n",
      "   ----------- --------------------------- 110.9/375.9 MB 20.9 MB/s eta 0:00:13\n",
      "   ----------- --------------------------- 115.1/375.9 MB 20.9 MB/s eta 0:00:13\n",
      "   ------------ -------------------------- 119.8/375.9 MB 21.0 MB/s eta 0:00:13\n",
      "   ------------ -------------------------- 124.8/375.9 MB 21.1 MB/s eta 0:00:12\n",
      "   ------------- ------------------------- 129.0/375.9 MB 21.1 MB/s eta 0:00:12\n",
      "   ------------- ------------------------- 134.0/375.9 MB 21.2 MB/s eta 0:00:12\n",
      "   -------------- ------------------------ 138.1/375.9 MB 21.1 MB/s eta 0:00:12\n",
      "   -------------- ------------------------ 141.8/375.9 MB 21.0 MB/s eta 0:00:12\n",
      "   --------------- ----------------------- 146.3/375.9 MB 21.0 MB/s eta 0:00:11\n",
      "   --------------- ----------------------- 150.7/375.9 MB 21.1 MB/s eta 0:00:11\n",
      "   ---------------- ---------------------- 155.2/375.9 MB 21.1 MB/s eta 0:00:11\n",
      "   ---------------- ---------------------- 159.4/375.9 MB 21.0 MB/s eta 0:00:11\n",
      "   ----------------- --------------------- 164.1/375.9 MB 21.1 MB/s eta 0:00:11\n",
      "   ----------------- --------------------- 168.3/375.9 MB 21.1 MB/s eta 0:00:10\n",
      "   ----------------- --------------------- 173.0/375.9 MB 21.1 MB/s eta 0:00:10\n",
      "   ------------------ -------------------- 178.0/375.9 MB 21.2 MB/s eta 0:00:10\n",
      "   ------------------ -------------------- 182.7/375.9 MB 21.2 MB/s eta 0:00:10\n",
      "   ------------------- ------------------- 186.1/375.9 MB 21.1 MB/s eta 0:00:09\n",
      "   ------------------- ------------------- 190.6/375.9 MB 21.1 MB/s eta 0:00:09\n",
      "   -------------------- ------------------ 195.8/375.9 MB 21.2 MB/s eta 0:00:09\n",
      "   -------------------- ------------------ 199.8/375.9 MB 21.2 MB/s eta 0:00:09\n",
      "   --------------------- ----------------- 204.2/375.9 MB 21.2 MB/s eta 0:00:09\n",
      "   --------------------- ----------------- 209.2/375.9 MB 21.3 MB/s eta 0:00:08\n",
      "   ---------------------- ---------------- 214.2/375.9 MB 21.3 MB/s eta 0:00:08\n",
      "   ---------------------- ---------------- 219.2/375.9 MB 21.4 MB/s eta 0:00:08\n",
      "   ----------------------- --------------- 223.9/375.9 MB 21.4 MB/s eta 0:00:08\n",
      "   ----------------------- --------------- 228.9/375.9 MB 21.5 MB/s eta 0:00:07\n",
      "   ------------------------ -------------- 234.1/375.9 MB 21.5 MB/s eta 0:00:07\n",
      "   ------------------------ -------------- 238.6/375.9 MB 21.5 MB/s eta 0:00:07\n",
      "   ------------------------- ------------- 243.0/375.9 MB 21.5 MB/s eta 0:00:07\n",
      "   ------------------------- ------------- 248.5/375.9 MB 21.6 MB/s eta 0:00:06\n",
      "   -------------------------- ------------ 253.2/375.9 MB 21.6 MB/s eta 0:00:06\n",
      "   -------------------------- ------------ 257.9/375.9 MB 21.7 MB/s eta 0:00:06\n",
      "   --------------------------- ----------- 262.9/375.9 MB 21.9 MB/s eta 0:00:06\n",
      "   --------------------------- ----------- 267.9/375.9 MB 21.9 MB/s eta 0:00:05\n",
      "   ---------------------------- ---------- 271.3/375.9 MB 21.9 MB/s eta 0:00:05\n",
      "   ---------------------------- ---------- 276.0/375.9 MB 21.9 MB/s eta 0:00:05\n",
      "   ----------------------------- --------- 281.0/375.9 MB 22.0 MB/s eta 0:00:05\n",
      "   ----------------------------- --------- 286.3/375.9 MB 21.9 MB/s eta 0:00:05\n",
      "   ------------------------------ -------- 291.0/375.9 MB 22.0 MB/s eta 0:00:04\n",
      "   ------------------------------ -------- 295.7/375.9 MB 21.9 MB/s eta 0:00:04\n",
      "   ------------------------------- ------- 299.4/375.9 MB 21.9 MB/s eta 0:00:04\n",
      "   ------------------------------- ------- 304.3/375.9 MB 22.1 MB/s eta 0:00:04\n",
      "   -------------------------------- ------ 309.9/375.9 MB 22.2 MB/s eta 0:00:03\n",
      "   -------------------------------- ------ 314.3/375.9 MB 22.1 MB/s eta 0:00:03\n",
      "   --------------------------------- ----- 318.5/375.9 MB 22.1 MB/s eta 0:00:03\n",
      "   --------------------------------- ----- 322.7/375.9 MB 22.1 MB/s eta 0:00:03\n",
      "   --------------------------------- ----- 327.7/375.9 MB 22.3 MB/s eta 0:00:03\n",
      "   ---------------------------------- ---- 332.1/375.9 MB 22.3 MB/s eta 0:00:02\n",
      "   ----------------------------------- --- 337.6/375.9 MB 22.4 MB/s eta 0:00:02\n",
      "   ----------------------------------- --- 342.6/375.9 MB 22.4 MB/s eta 0:00:02\n",
      "   ------------------------------------ -- 347.1/375.9 MB 22.5 MB/s eta 0:00:02\n",
      "   ------------------------------------ -- 351.8/375.9 MB 22.5 MB/s eta 0:00:02\n",
      "   ------------------------------------ -- 356.5/375.9 MB 22.4 MB/s eta 0:00:01\n",
      "   ------------------------------------- - 361.2/375.9 MB 22.5 MB/s eta 0:00:01\n",
      "   ------------------------------------- - 366.0/375.9 MB 22.5 MB/s eta 0:00:01\n",
      "   --------------------------------------  370.7/375.9 MB 22.5 MB/s eta 0:00:01\n",
      "   --------------------------------------  374.6/375.9 MB 22.4 MB/s eta 0:00:01\n",
      "   --------------------------------------  375.7/375.9 MB 22.4 MB/s eta 0:00:01\n",
      "   --------------------------------------  375.7/375.9 MB 22.4 MB/s eta 0:00:01\n",
      "   --------------------------------------  375.7/375.9 MB 22.4 MB/s eta 0:00:01\n",
      "   --------------------------------------- 375.9/375.9 MB 21.3 MB/s eta 0:00:00\n",
      "Downloading absl_py-2.1.0-py3-none-any.whl (133 kB)\n",
      "Downloading astunparse-1.6.3-py2.py3-none-any.whl (12 kB)\n",
      "Downloading flatbuffers-25.2.10-py2.py3-none-any.whl (30 kB)\n",
      "Downloading gast-0.6.0-py3-none-any.whl (21 kB)\n",
      "Downloading google_pasta-0.2.0-py3-none-any.whl (57 kB)\n",
      "Downloading grpcio-1.71.0-cp311-cp311-win_amd64.whl (4.3 MB)\n",
      "   ---------------------------------------- 0.0/4.3 MB ? eta -:--:--\n",
      "   ----------------------------- ---------- 3.1/4.3 MB 15.3 MB/s eta 0:00:01\n",
      "   ---------------------------------------- 4.3/4.3 MB 15.1 MB/s eta 0:00:00\n",
      "Downloading h5py-3.13.0-cp311-cp311-win_amd64.whl (3.0 MB)\n",
      "   ---------------------------------------- 0.0/3.0 MB ? eta -:--:--\n",
      "   ---------------------------------------- 3.0/3.0 MB 21.6 MB/s eta 0:00:00\n",
      "Downloading keras-3.9.0-py3-none-any.whl (1.3 MB)\n",
      "   ---------------------------------------- 0.0/1.3 MB ? eta -:--:--\n",
      "   ---------------------------------------- 1.3/1.3 MB 17.4 MB/s eta 0:00:00\n",
      "Downloading libclang-18.1.1-py2.py3-none-win_amd64.whl (26.4 MB)\n",
      "   ---------------------------------------- 0.0/26.4 MB ? eta -:--:--\n",
      "   ----- ---------------------------------- 3.9/26.4 MB 19.5 MB/s eta 0:00:02\n",
      "   ------------ --------------------------- 8.4/26.4 MB 21.7 MB/s eta 0:00:01\n",
      "   ------------------- -------------------- 12.8/26.4 MB 21.2 MB/s eta 0:00:01\n",
      "   ------------------------- -------------- 16.8/26.4 MB 20.7 MB/s eta 0:00:01\n",
      "   ------------------------------- -------- 21.0/26.4 MB 20.7 MB/s eta 0:00:01\n",
      "   ------------------------------------- -- 24.6/26.4 MB 20.5 MB/s eta 0:00:01\n",
      "   ---------------------------------------- 26.4/26.4 MB 19.7 MB/s eta 0:00:00\n",
      "Downloading ml_dtypes-0.5.1-cp311-cp311-win_amd64.whl (209 kB)\n",
      "Downloading opt_einsum-3.4.0-py3-none-any.whl (71 kB)\n",
      "Downloading protobuf-5.29.3-cp310-abi3-win_amd64.whl (434 kB)\n",
      "Downloading tensorboard-2.19.0-py3-none-any.whl (5.5 MB)\n",
      "   ---------------------------------------- 0.0/5.5 MB ? eta -:--:--\n",
      "   -------------------------------- ------- 4.5/5.5 MB 19.2 MB/s eta 0:00:01\n",
      "   ---------------------------------------- 5.5/5.5 MB 18.7 MB/s eta 0:00:00\n",
      "Downloading tensorflow_io_gcs_filesystem-0.31.0-cp311-cp311-win_amd64.whl (1.5 MB)\n",
      "   ---------------------------------------- 0.0/1.5 MB ? eta -:--:--\n",
      "   ---------------------------------------- 1.5/1.5 MB 26.0 MB/s eta 0:00:00\n",
      "Downloading termcolor-2.5.0-py3-none-any.whl (7.8 kB)\n",
      "Downloading Markdown-3.7-py3-none-any.whl (106 kB)\n",
      "Downloading tensorboard_data_server-0.7.2-py3-none-any.whl (2.4 kB)\n",
      "Downloading werkzeug-3.1.3-py3-none-any.whl (224 kB)\n",
      "Using cached wheel-0.45.1-py3-none-any.whl (72 kB)\n",
      "Downloading namex-0.0.8-py3-none-any.whl (5.8 kB)\n",
      "Downloading optree-0.14.1-cp311-cp311-win_amd64.whl (305 kB)\n",
      "Downloading rich-13.9.4-py3-none-any.whl (242 kB)\n",
      "Downloading markdown_it_py-3.0.0-py3-none-any.whl (87 kB)\n",
      "Downloading mdurl-0.1.2-py3-none-any.whl (10.0 kB)\n",
      "Installing collected packages: namex, libclang, flatbuffers, wheel, werkzeug, termcolor, tensorflow-io-gcs-filesystem, tensorboard-data-server, protobuf, optree, opt-einsum, ml-dtypes, mdurl, markdown, h5py, grpcio, google-pasta, gast, absl-py, tensorboard, markdown-it-py, astunparse, rich, keras, tensorflow\n",
      "Successfully installed absl-py-2.1.0 astunparse-1.6.3 flatbuffers-25.2.10 gast-0.6.0 google-pasta-0.2.0 grpcio-1.71.0 h5py-3.13.0 keras-3.9.0 libclang-18.1.1 markdown-3.7 markdown-it-py-3.0.0 mdurl-0.1.2 ml-dtypes-0.5.1 namex-0.0.8 opt-einsum-3.4.0 optree-0.14.1 protobuf-5.29.3 rich-13.9.4 tensorboard-2.19.0 tensorboard-data-server-0.7.2 tensorflow-2.19.0 tensorflow-io-gcs-filesystem-0.31.0 termcolor-2.5.0 werkzeug-3.1.3 wheel-0.45.1\n"
     ]
    }
   ],
   "source": [
    "!pip install numpy tensorflow matplotlib\n"
   ]
  },
  {
   "cell_type": "code",
   "execution_count": 2,
   "id": "d7c47afd-86c1-45d4-96a2-a5236a6b529c",
   "metadata": {},
   "outputs": [],
   "source": [
    "import numpy as np\n",
    "import tensorflow as tf\n",
    "import matplotlib.pyplot as plt\n",
    "from tensorflow.keras import layers, models\n"
   ]
  },
  {
   "cell_type": "code",
   "execution_count": 3,
   "id": "6de7ea65-4da9-4dc9-a34f-f68ff09a6c71",
   "metadata": {},
   "outputs": [
    {
     "name": "stdout",
     "output_type": "stream",
     "text": [
      "Downloading data from https://storage.googleapis.com/tensorflow/tf-keras-datasets/mnist.npz\n",
      "\u001b[1m11490434/11490434\u001b[0m \u001b[32m━━━━━━━━━━━━━━━━━━━━\u001b[0m\u001b[37m\u001b[0m \u001b[1m1s\u001b[0m 0us/step\n"
     ]
    }
   ],
   "source": [
    "# Загружаем набор данных MNIST\n",
    "(x_train, y_train), (x_test, y_test) = tf.keras.datasets.mnist.load_data()\n",
    "\n",
    "# Нормализуем данные (приведём к диапазону [0, 1])\n",
    "x_train, x_test = x_train / 255.0, x_test / 255.0\n",
    "\n",
    "# Добавим четвёртое измерение (канал изображения)\n",
    "x_train = x_train.reshape(-1, 28, 28, 1)\n",
    "x_test = x_test.reshape(-1, 28, 28, 1)\n",
    "\n",
    "# Преобразуем метки в one-hot формат\n",
    "y_train = tf.keras.utils.to_categorical(y_train, 10)\n",
    "y_test = tf.keras.utils.to_categorical(y_test, 10)\n"
   ]
  },
  {
   "cell_type": "code",
   "execution_count": 4,
   "id": "5b3e9920-4660-48ec-9de3-e2c9a9dadf7b",
   "metadata": {},
   "outputs": [
    {
     "name": "stderr",
     "output_type": "stream",
     "text": [
      "C:\\Users\\User\\AppData\\Roaming\\Python\\Python311\\site-packages\\keras\\src\\layers\\convolutional\\base_conv.py:107: UserWarning: Do not pass an `input_shape`/`input_dim` argument to a layer. When using Sequential models, prefer using an `Input(shape)` object as the first layer in the model instead.\n",
      "  super().__init__(activity_regularizer=activity_regularizer, **kwargs)\n"
     ]
    }
   ],
   "source": [
    "model = models.Sequential([\n",
    "    layers.Conv2D(32, (3, 3), activation='relu', input_shape=(28, 28, 1)),\n",
    "    layers.MaxPooling2D((2, 2)),\n",
    "    layers.Conv2D(64, (3, 3), activation='relu'),\n",
    "    layers.MaxPooling2D((2, 2)),\n",
    "    layers.Conv2D(64, (3, 3), activation='relu'),\n",
    "    layers.Flatten(),\n",
    "    layers.Dense(64, activation='relu'),\n",
    "    layers.Dense(10, activation='softmax')\n",
    "])\n",
    "\n",
    "# Компиляция модели\n",
    "model.compile(optimizer='adam',\n",
    "              loss='categorical_crossentropy',\n",
    "              metrics=['accuracy'])\n"
   ]
  },
  {
   "cell_type": "code",
   "execution_count": 5,
   "id": "02172b29-1a5c-4deb-8530-fd3597c75946",
   "metadata": {},
   "outputs": [
    {
     "name": "stdout",
     "output_type": "stream",
     "text": [
      "Epoch 1/5\n",
      "\u001b[1m1875/1875\u001b[0m \u001b[32m━━━━━━━━━━━━━━━━━━━━\u001b[0m\u001b[37m\u001b[0m \u001b[1m12s\u001b[0m 6ms/step - accuracy: 0.9029 - loss: 0.3219 - val_accuracy: 0.9799 - val_loss: 0.0626\n",
      "Epoch 2/5\n",
      "\u001b[1m1875/1875\u001b[0m \u001b[32m━━━━━━━━━━━━━━━━━━━━\u001b[0m\u001b[37m\u001b[0m \u001b[1m11s\u001b[0m 6ms/step - accuracy: 0.9840 - loss: 0.0505 - val_accuracy: 0.9862 - val_loss: 0.0452\n",
      "Epoch 3/5\n",
      "\u001b[1m1875/1875\u001b[0m \u001b[32m━━━━━━━━━━━━━━━━━━━━\u001b[0m\u001b[37m\u001b[0m \u001b[1m11s\u001b[0m 6ms/step - accuracy: 0.9882 - loss: 0.0382 - val_accuracy: 0.9861 - val_loss: 0.0406\n",
      "Epoch 4/5\n",
      "\u001b[1m1875/1875\u001b[0m \u001b[32m━━━━━━━━━━━━━━━━━━━━\u001b[0m\u001b[37m\u001b[0m \u001b[1m11s\u001b[0m 6ms/step - accuracy: 0.9913 - loss: 0.0275 - val_accuracy: 0.9904 - val_loss: 0.0301\n",
      "Epoch 5/5\n",
      "\u001b[1m1875/1875\u001b[0m \u001b[32m━━━━━━━━━━━━━━━━━━━━\u001b[0m\u001b[37m\u001b[0m \u001b[1m11s\u001b[0m 6ms/step - accuracy: 0.9929 - loss: 0.0211 - val_accuracy: 0.9909 - val_loss: 0.0296\n"
     ]
    }
   ],
   "source": [
    "history = model.fit(x_train, y_train, epochs=5, validation_data=(x_test, y_test))\n"
   ]
  },
  {
   "cell_type": "code",
   "execution_count": 6,
   "id": "f65e1221-b34a-48a5-ad0a-5175c4aed303",
   "metadata": {},
   "outputs": [
    {
     "name": "stdout",
     "output_type": "stream",
     "text": [
      "\u001b[1m313/313\u001b[0m \u001b[32m━━━━━━━━━━━━━━━━━━━━\u001b[0m\u001b[37m\u001b[0m \u001b[1m1s\u001b[0m 2ms/step - accuracy: 0.9873 - loss: 0.0407\n",
      "Точность на тестовых данных: 0.9909\n"
     ]
    }
   ],
   "source": [
    "test_loss, test_acc = model.evaluate(x_test, y_test)\n",
    "print(f\"Точность на тестовых данных: {test_acc:.4f}\")\n"
   ]
  },
  {
   "cell_type": "code",
   "execution_count": 7,
   "id": "a8641783-555d-44c2-a89a-61c5cd1d3bb8",
   "metadata": {},
   "outputs": [
    {
     "name": "stdout",
     "output_type": "stream",
     "text": [
      "\u001b[1m1/1\u001b[0m \u001b[32m━━━━━━━━━━━━━━━━━━━━\u001b[0m\u001b[37m\u001b[0m \u001b[1m0s\u001b[0m 72ms/step\n"
     ]
    },
    {
     "data": {
      "image/png": "[encoded data removed]",
      "text/plain": [
       "<Figure size 1500x300 with 10 Axes>"
      ]
     },
     "metadata": {},
     "output_type": "display_data"
    }
   ],
   "source": [
    "# Предсказание на нескольких изображениях\n",
    "predictions = model.predict(x_test[:10])\n",
    "\n",
    "# Визуализация\n",
    "fig, axes = plt.subplots(1, 10, figsize=(15, 3))\n",
    "for i, ax in enumerate(axes):\n",
    "    ax.imshow(x_test[i].reshape(28, 28), cmap='gray')\n",
    "    ax.set_title(f\"Pred: {np.argmax(predictions[i])}\")\n",
    "    ax.axis('off')\n",
    "plt.show()\n"
   ]
  },
  {
   "cell_type": "code",
   "execution_count": null,
   "id": "e2ec65fa-c559-4133-8481-3bce75976580",
   "metadata": {},
   "outputs": [],
   "source": []
  }
 ],
 "metadata": {
  "kernelspec": {
   "display_name": "Python 3 (ipykernel)",
   "language": "python",
   "name": "python3"
  },
  "language_info": {
   "codemirror_mode": {
    "name": "ipython",
    "version": 3
   },
   "file_extension": ".py",
   "mimetype": "text/x-python",
   "name": "python",
   "nbconvert_exporter": "python",
   "pygments_lexer": "ipython3",
   "version": "3.12.7"
  }
 },
 "nbformat": 4,
 "nbformat_minor": 5
}
